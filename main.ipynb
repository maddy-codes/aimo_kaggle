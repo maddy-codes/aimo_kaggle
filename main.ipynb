{
 "cells": [
  {
   "cell_type": "code",
   "execution_count": 12,
   "metadata": {},
   "outputs": [
    {
     "name": "stderr",
     "output_type": "stream",
     "text": [
      "Traceback (most recent call last):\n",
      "  File \"<string>\", line 1, in <module>\n",
      "  File \"d:\\Anaconda3\\envs\\Jatin_GPU_ENV\\lib\\site-packages\\kaggle\\__init__.py\", line 7, in <module>\n",
      "    api.authenticate()\n",
      "  File \"d:\\Anaconda3\\envs\\Jatin_GPU_ENV\\lib\\site-packages\\kaggle\\api\\kaggle_api_extended.py\", line 398, in authenticate\n",
      "    raise IOError('Could not find {}. Make sure it\\'s located in'\n",
      "OSError: Could not find kaggle.json. Make sure it's located in C:\\Users\\22830110\\.kaggle. Or use the environment method.\n"
     ]
    }
   ],
   "source": [
    "!python -c \"import kaggle; from kaggle.api.kaggle_api_extended import KaggleApi; api = KaggleApi(); api.authenticate(); api.model_list_cli()\""
   ]
  },
  {
   "cell_type": "code",
   "execution_count": 2,
   "metadata": {},
   "outputs": [
    {
     "name": "stderr",
     "output_type": "stream",
     "text": [
      "Traceback (most recent call last):\n",
      "  File \"D:\\Anaconda3\\envs\\Jatin_GPU_ENV\\lib\\runpy.py\", line 197, in _run_module_as_main\n",
      "    return _run_code(code, main_globals, None,\n",
      "  File \"D:\\Anaconda3\\envs\\Jatin_GPU_ENV\\lib\\runpy.py\", line 87, in _run_code\n",
      "    exec(code, run_globals)\n",
      "  File \"D:\\Anaconda3\\envs\\Jatin_GPU_ENV\\Scripts\\kaggle.exe\\__main__.py\", line 4, in <module>\n",
      "  File \"D:\\Anaconda3\\envs\\Jatin_GPU_ENV\\lib\\site-packages\\kaggle\\__init__.py\", line 7, in <module>\n",
      "    api.authenticate()\n",
      "  File \"D:\\Anaconda3\\envs\\Jatin_GPU_ENV\\lib\\site-packages\\kaggle\\api\\kaggle_api_extended.py\", line 398, in authenticate\n",
      "    raise IOError('Could not find {}. Make sure it\\'s located in'\n",
      "OSError: Could not find kaggle.json. Make sure it's located in C:\\Users\\22830110\\.kaggle. Or use the environment method.\n"
     ]
    }
   ],
   "source": [
    "!kaggle competitions download -c ai-mathematical-olympiad-prize"
   ]
  },
  {
   "cell_type": "code",
   "execution_count": null,
   "metadata": {},
   "outputs": [],
   "source": []
  },
  {
   "cell_type": "code",
   "execution_count": null,
   "metadata": {},
   "outputs": [],
   "source": []
  }
 ],
 "metadata": {
  "kernelspec": {
   "display_name": "Jatin_GPU_ENV",
   "language": "python",
   "name": "python3"
  },
  "language_info": {
   "codemirror_mode": {
    "name": "ipython",
    "version": 3
   },
   "file_extension": ".py",
   "mimetype": "text/x-python",
   "name": "python",
   "nbconvert_exporter": "python",
   "pygments_lexer": "ipython3",
   "version": "3.9.16"
  }
 },
 "nbformat": 4,
 "nbformat_minor": 2
}
